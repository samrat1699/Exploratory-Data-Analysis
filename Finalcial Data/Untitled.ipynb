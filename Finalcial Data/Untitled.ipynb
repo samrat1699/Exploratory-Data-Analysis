{
 "cells": [
  {
   "cell_type": "markdown",
   "id": "6a90b9e2-8560-4a65-9369-73d8faa941aa",
   "metadata": {
    "tags": []
   },
   "source": [
    "## Import Basic Library"
   ]
  },
  {
   "cell_type": "code",
   "execution_count": null,
   "id": "54e255f2-f052-449f-8179-5e7e9c05b7b7",
   "metadata": {},
   "outputs": [],
   "source": []
  },
  {
   "cell_type": "code",
   "execution_count": 1,
   "id": "5b1cbf2d-aacf-4f80-aabc-7d63b2996178",
   "metadata": {},
   "outputs": [
    {
     "name": "stdout",
     "output_type": "stream",
     "text": [
      "Collecting pyecharts\n",
      "  Downloading pyecharts-2.0.1-py3-none-any.whl (146 kB)\n",
      "     -------------------------------------- 146.0/146.0 kB 1.5 MB/s eta 0:00:00\n",
      "Collecting prettytable\n",
      "  Downloading prettytable-3.6.0-py3-none-any.whl (27 kB)\n",
      "Requirement already satisfied: jinja2 in c:\\users\\asus\\appdata\\local\\programs\\python\\python310\\lib\\site-packages (from pyecharts) (3.1.1)\n",
      "Collecting simplejson\n",
      "  Downloading simplejson-3.18.3-cp310-cp310-win_amd64.whl (74 kB)\n",
      "     ---------------------------------------- 74.9/74.9 kB 2.1 MB/s eta 0:00:00\n",
      "Requirement already satisfied: MarkupSafe>=2.0 in c:\\users\\asus\\appdata\\local\\programs\\python\\python310\\lib\\site-packages (from jinja2->pyecharts) (2.1.1)\n",
      "Requirement already satisfied: wcwidth in c:\\users\\asus\\appdata\\local\\programs\\python\\python310\\lib\\site-packages (from prettytable->pyecharts) (0.2.5)\n",
      "Installing collected packages: simplejson, prettytable, pyecharts\n",
      "Successfully installed prettytable-3.6.0 pyecharts-2.0.1 simplejson-3.18.3\n"
     ]
    },
    {
     "name": "stderr",
     "output_type": "stream",
     "text": [
      "\n",
      "[notice] A new release of pip available: 22.3.1 -> 23.0\n",
      "[notice] To update, run: python.exe -m pip install --upgrade pip\n"
     ]
    }
   ],
   "source": [
    "from pathlib import Path \n",
    "!pip install pyecharts\n",
    "import pandas as pd  \n",
    "from pyecharts import options as opts  \n",
    "from pyecharts.charts import Bar, Calendar, Tab"
   ]
  },
  {
   "cell_type": "markdown",
   "id": "1ee94525-8e28-44cb-b6ab-f6dbe234d720",
   "metadata": {},
   "source": [
    "## Load Data SET"
   ]
  },
  {
   "cell_type": "code",
   "execution_count": 14,
   "id": "6daffcba-a9f0-43ab-b430-b6203f0af743",
   "metadata": {},
   "outputs": [
    {
     "data": {
      "text/html": [
       "<div>\n",
       "<style scoped>\n",
       "    .dataframe tbody tr th:only-of-type {\n",
       "        vertical-align: middle;\n",
       "    }\n",
       "\n",
       "    .dataframe tbody tr th {\n",
       "        vertical-align: top;\n",
       "    }\n",
       "\n",
       "    .dataframe thead th {\n",
       "        text-align: right;\n",
       "    }\n",
       "</style>\n",
       "<table border=\"1\" class=\"dataframe\">\n",
       "  <thead>\n",
       "    <tr style=\"text-align: right;\">\n",
       "      <th></th>\n",
       "      <th>Order ID</th>\n",
       "      <th>Order Date</th>\n",
       "      <th>Ship Mode</th>\n",
       "      <th>Customer ID</th>\n",
       "      <th>Customer Name</th>\n",
       "      <th>Segment</th>\n",
       "      <th>Country</th>\n",
       "      <th>City</th>\n",
       "      <th>State</th>\n",
       "      <th>Postal Code</th>\n",
       "      <th>Region</th>\n",
       "      <th>Product ID</th>\n",
       "      <th>Category</th>\n",
       "      <th>Sub-Category</th>\n",
       "      <th>Product Name</th>\n",
       "      <th>Sales</th>\n",
       "      <th>Quantity</th>\n",
       "      <th>Discount</th>\n",
       "      <th>Profit</th>\n",
       "    </tr>\n",
       "  </thead>\n",
       "  <tbody>\n",
       "    <tr>\n",
       "      <th>0</th>\n",
       "      <td>CA-2017-114412</td>\n",
       "      <td>4/15/21</td>\n",
       "      <td>Standard Class</td>\n",
       "      <td>AA-10480</td>\n",
       "      <td>Andrew Allen</td>\n",
       "      <td>Consumer</td>\n",
       "      <td>United States</td>\n",
       "      <td>Concord</td>\n",
       "      <td>North Carolina</td>\n",
       "      <td>28027</td>\n",
       "      <td>South</td>\n",
       "      <td>OFF-PA-10002365</td>\n",
       "      <td>Office Supplies</td>\n",
       "      <td>Paper</td>\n",
       "      <td>Xerox 1967</td>\n",
       "      <td>15.552</td>\n",
       "      <td>3</td>\n",
       "      <td>0.2</td>\n",
       "      <td>5.4432</td>\n",
       "    </tr>\n",
       "    <tr>\n",
       "      <th>1</th>\n",
       "      <td>US-2017-156909</td>\n",
       "      <td>7/16/21</td>\n",
       "      <td>Second Class</td>\n",
       "      <td>SF-20065</td>\n",
       "      <td>Sandra Flanagan</td>\n",
       "      <td>Consumer</td>\n",
       "      <td>United States</td>\n",
       "      <td>Philadelphia</td>\n",
       "      <td>Pennsylvania</td>\n",
       "      <td>19140</td>\n",
       "      <td>East</td>\n",
       "      <td>FUR-CH-10002774</td>\n",
       "      <td>Furniture</td>\n",
       "      <td>Chairs</td>\n",
       "      <td>Global Deluxe Stacking Chair, Gray</td>\n",
       "      <td>71.372</td>\n",
       "      <td>2</td>\n",
       "      <td>0.3</td>\n",
       "      <td>-1.0196</td>\n",
       "    </tr>\n",
       "    <tr>\n",
       "      <th>2</th>\n",
       "      <td>CA-2017-107727</td>\n",
       "      <td>10/19/21</td>\n",
       "      <td>Second Class</td>\n",
       "      <td>MA-17560</td>\n",
       "      <td>Matt Abelman</td>\n",
       "      <td>Home Office</td>\n",
       "      <td>United States</td>\n",
       "      <td>Houston</td>\n",
       "      <td>Texas</td>\n",
       "      <td>77095</td>\n",
       "      <td>Central</td>\n",
       "      <td>OFF-PA-10000249</td>\n",
       "      <td>Office Supplies</td>\n",
       "      <td>Paper</td>\n",
       "      <td>Easy-staple paper</td>\n",
       "      <td>29.472</td>\n",
       "      <td>3</td>\n",
       "      <td>0.2</td>\n",
       "      <td>9.9468</td>\n",
       "    </tr>\n",
       "    <tr>\n",
       "      <th>3</th>\n",
       "      <td>CA-2017-120999</td>\n",
       "      <td>9/10/21</td>\n",
       "      <td>Standard Class</td>\n",
       "      <td>LC-16930</td>\n",
       "      <td>Linda Cazamias</td>\n",
       "      <td>Corporate</td>\n",
       "      <td>United States</td>\n",
       "      <td>Naperville</td>\n",
       "      <td>Illinois</td>\n",
       "      <td>60540</td>\n",
       "      <td>Central</td>\n",
       "      <td>TEC-PH-10004093</td>\n",
       "      <td>Technology</td>\n",
       "      <td>Phones</td>\n",
       "      <td>Panasonic Kx-TS550</td>\n",
       "      <td>147.168</td>\n",
       "      <td>4</td>\n",
       "      <td>0.2</td>\n",
       "      <td>16.5564</td>\n",
       "    </tr>\n",
       "    <tr>\n",
       "      <th>4</th>\n",
       "      <td>CA-2017-139619</td>\n",
       "      <td>9/19/21</td>\n",
       "      <td>Standard Class</td>\n",
       "      <td>ES-14080</td>\n",
       "      <td>Erin Smith</td>\n",
       "      <td>Corporate</td>\n",
       "      <td>United States</td>\n",
       "      <td>Melbourne</td>\n",
       "      <td>Florida</td>\n",
       "      <td>32935</td>\n",
       "      <td>South</td>\n",
       "      <td>OFF-ST-10003282</td>\n",
       "      <td>Office Supplies</td>\n",
       "      <td>Storage</td>\n",
       "      <td>Advantus 10-Drawer Portable Organizer, Chrome ...</td>\n",
       "      <td>95.616</td>\n",
       "      <td>2</td>\n",
       "      <td>0.2</td>\n",
       "      <td>9.5616</td>\n",
       "    </tr>\n",
       "  </tbody>\n",
       "</table>\n",
       "</div>"
      ],
      "text/plain": [
       "         Order ID Order Date       Ship Mode Customer ID    Customer Name  \\\n",
       "0  CA-2017-114412    4/15/21  Standard Class    AA-10480     Andrew Allen   \n",
       "1  US-2017-156909    7/16/21    Second Class    SF-20065  Sandra Flanagan   \n",
       "2  CA-2017-107727   10/19/21    Second Class    MA-17560     Matt Abelman   \n",
       "3  CA-2017-120999    9/10/21  Standard Class    LC-16930   Linda Cazamias   \n",
       "4  CA-2017-139619    9/19/21  Standard Class    ES-14080       Erin Smith   \n",
       "\n",
       "       Segment        Country          City           State  Postal Code  \\\n",
       "0     Consumer  United States       Concord  North Carolina        28027   \n",
       "1     Consumer  United States  Philadelphia    Pennsylvania        19140   \n",
       "2  Home Office  United States       Houston           Texas        77095   \n",
       "3    Corporate  United States    Naperville        Illinois        60540   \n",
       "4    Corporate  United States     Melbourne         Florida        32935   \n",
       "\n",
       "    Region       Product ID         Category Sub-Category  \\\n",
       "0    South  OFF-PA-10002365  Office Supplies        Paper   \n",
       "1     East  FUR-CH-10002774        Furniture       Chairs   \n",
       "2  Central  OFF-PA-10000249  Office Supplies        Paper   \n",
       "3  Central  TEC-PH-10004093       Technology       Phones   \n",
       "4    South  OFF-ST-10003282  Office Supplies      Storage   \n",
       "\n",
       "                                        Product Name    Sales  Quantity  \\\n",
       "0                                         Xerox 1967   15.552         3   \n",
       "1                 Global Deluxe Stacking Chair, Gray   71.372         2   \n",
       "2                                  Easy-staple paper   29.472         3   \n",
       "3                                 Panasonic Kx-TS550  147.168         4   \n",
       "4  Advantus 10-Drawer Portable Organizer, Chrome ...   95.616         2   \n",
       "\n",
       "   Discount   Profit  \n",
       "0       0.2   5.4432  \n",
       "1       0.3  -1.0196  \n",
       "2       0.2   9.9468  \n",
       "3       0.2  16.5564  \n",
       "4       0.2   9.5616  "
      ]
     },
     "execution_count": 14,
     "metadata": {},
     "output_type": "execute_result"
    }
   ],
   "source": [
    "df = pd.read_csv('financial.csv')\n",
    "df.head()"
   ]
  },
  {
   "cell_type": "code",
   "execution_count": 15,
   "id": "b826faf7-4fb1-41ec-9110-8cc6f1eb4103",
   "metadata": {},
   "outputs": [
    {
     "name": "stdout",
     "output_type": "stream",
     "text": [
      "<class 'pandas.core.frame.DataFrame'>\n",
      "RangeIndex: 3312 entries, 0 to 3311\n",
      "Data columns (total 19 columns):\n",
      " #   Column         Non-Null Count  Dtype  \n",
      "---  ------         --------------  -----  \n",
      " 0   Order ID       3312 non-null   object \n",
      " 1   Order Date     3312 non-null   object \n",
      " 2   Ship Mode      3312 non-null   object \n",
      " 3   Customer ID    3312 non-null   object \n",
      " 4   Customer Name  3312 non-null   object \n",
      " 5   Segment        3312 non-null   object \n",
      " 6   Country        3312 non-null   object \n",
      " 7   City           3312 non-null   object \n",
      " 8   State          3312 non-null   object \n",
      " 9   Postal Code    3312 non-null   int64  \n",
      " 10  Region         3312 non-null   object \n",
      " 11  Product ID     3312 non-null   object \n",
      " 12  Category       3312 non-null   object \n",
      " 13  Sub-Category   3312 non-null   object \n",
      " 14  Product Name   3312 non-null   object \n",
      " 15  Sales          3312 non-null   float64\n",
      " 16  Quantity       3312 non-null   int64  \n",
      " 17  Discount       3312 non-null   float64\n",
      " 18  Profit         3312 non-null   float64\n",
      "dtypes: float64(3), int64(2), object(14)\n",
      "memory usage: 491.8+ KB\n"
     ]
    }
   ],
   "source": [
    "df.info()"
   ]
  },
  {
   "cell_type": "code",
   "execution_count": 16,
   "id": "216b5eae-5e66-4a49-854e-5e6139c911b2",
   "metadata": {},
   "outputs": [],
   "source": [
    "df['Order Date'] =pd.to_datetime(df['Order Date'])"
   ]
  },
  {
   "cell_type": "code",
   "execution_count": 17,
   "id": "6df5ac2c-faa6-4e5d-85ec-35770fa5d954",
   "metadata": {},
   "outputs": [
    {
     "name": "stdout",
     "output_type": "stream",
     "text": [
      "<class 'pandas.core.frame.DataFrame'>\n",
      "RangeIndex: 3312 entries, 0 to 3311\n",
      "Data columns (total 19 columns):\n",
      " #   Column         Non-Null Count  Dtype         \n",
      "---  ------         --------------  -----         \n",
      " 0   Order ID       3312 non-null   object        \n",
      " 1   Order Date     3312 non-null   datetime64[ns]\n",
      " 2   Ship Mode      3312 non-null   object        \n",
      " 3   Customer ID    3312 non-null   object        \n",
      " 4   Customer Name  3312 non-null   object        \n",
      " 5   Segment        3312 non-null   object        \n",
      " 6   Country        3312 non-null   object        \n",
      " 7   City           3312 non-null   object        \n",
      " 8   State          3312 non-null   object        \n",
      " 9   Postal Code    3312 non-null   int64         \n",
      " 10  Region         3312 non-null   object        \n",
      " 11  Product ID     3312 non-null   object        \n",
      " 12  Category       3312 non-null   object        \n",
      " 13  Sub-Category   3312 non-null   object        \n",
      " 14  Product Name   3312 non-null   object        \n",
      " 15  Sales          3312 non-null   float64       \n",
      " 16  Quantity       3312 non-null   int64         \n",
      " 17  Discount       3312 non-null   float64       \n",
      " 18  Profit         3312 non-null   float64       \n",
      "dtypes: datetime64[ns](1), float64(3), int64(2), object(13)\n",
      "memory usage: 491.8+ KB\n"
     ]
    }
   ],
   "source": [
    "df.info()"
   ]
  },
  {
   "cell_type": "code",
   "execution_count": 31,
   "id": "23a5840f-92b4-4a0a-aa7f-ccbba0cf8ef5",
   "metadata": {},
   "outputs": [
    {
     "data": {
      "text/plain": [
       "Seth Vernon       20\n",
       "John Lee          20\n",
       "Dean percer       19\n",
       "Mick Hernandez    19\n",
       "Lena Cacioppo     17\n",
       "                  ..\n",
       "Evan Bailliet      1\n",
       "Bobby Odegard      1\n",
       "Sheri Gordon       1\n",
       "Thea Hendricks     1\n",
       "Andrew Allen       1\n",
       "Name: Customer Name, Length: 693, dtype: int64"
      ]
     },
     "execution_count": 31,
     "metadata": {},
     "output_type": "execute_result"
    }
   ],
   "source": [
    "#df[\"Region\"].value_counts()\n",
    "#df['Category'].value_counts()\n",
    "#df['State'].value_counts()\n",
    "df['Customer Name'].value_counts()"
   ]
  },
  {
   "cell_type": "code",
   "execution_count": 32,
   "id": "fa0b93b6-f8e3-46c3-93d6-b5d7b25aa78f",
   "metadata": {},
   "outputs": [
    {
     "data": {
      "text/html": [
       "<div>\n",
       "<style scoped>\n",
       "    .dataframe tbody tr th:only-of-type {\n",
       "        vertical-align: middle;\n",
       "    }\n",
       "\n",
       "    .dataframe tbody tr th {\n",
       "        vertical-align: top;\n",
       "    }\n",
       "\n",
       "    .dataframe thead th {\n",
       "        text-align: right;\n",
       "    }\n",
       "</style>\n",
       "<table border=\"1\" class=\"dataframe\">\n",
       "  <thead>\n",
       "    <tr style=\"text-align: right;\">\n",
       "      <th></th>\n",
       "      <th>Order ID</th>\n",
       "      <th>Order Date</th>\n",
       "      <th>Ship Mode</th>\n",
       "      <th>Customer ID</th>\n",
       "      <th>Customer Name</th>\n",
       "      <th>Segment</th>\n",
       "      <th>Country</th>\n",
       "      <th>City</th>\n",
       "      <th>State</th>\n",
       "      <th>Postal Code</th>\n",
       "      <th>Region</th>\n",
       "      <th>Product ID</th>\n",
       "      <th>Category</th>\n",
       "      <th>Sub-Category</th>\n",
       "      <th>Product Name</th>\n",
       "      <th>Sales</th>\n",
       "      <th>Quantity</th>\n",
       "      <th>Discount</th>\n",
       "      <th>Profit</th>\n",
       "      <th>Month</th>\n",
       "    </tr>\n",
       "  </thead>\n",
       "  <tbody>\n",
       "    <tr>\n",
       "      <th>0</th>\n",
       "      <td>CA-2017-114412</td>\n",
       "      <td>2021-04-15</td>\n",
       "      <td>Standard Class</td>\n",
       "      <td>AA-10480</td>\n",
       "      <td>Andrew Allen</td>\n",
       "      <td>Consumer</td>\n",
       "      <td>United States</td>\n",
       "      <td>Concord</td>\n",
       "      <td>North Carolina</td>\n",
       "      <td>28027</td>\n",
       "      <td>South</td>\n",
       "      <td>OFF-PA-10002365</td>\n",
       "      <td>Office Supplies</td>\n",
       "      <td>Paper</td>\n",
       "      <td>Xerox 1967</td>\n",
       "      <td>15.552</td>\n",
       "      <td>3</td>\n",
       "      <td>0.2</td>\n",
       "      <td>5.4432</td>\n",
       "      <td>4</td>\n",
       "    </tr>\n",
       "    <tr>\n",
       "      <th>1</th>\n",
       "      <td>US-2017-156909</td>\n",
       "      <td>2021-07-16</td>\n",
       "      <td>Second Class</td>\n",
       "      <td>SF-20065</td>\n",
       "      <td>Sandra Flanagan</td>\n",
       "      <td>Consumer</td>\n",
       "      <td>United States</td>\n",
       "      <td>Philadelphia</td>\n",
       "      <td>Pennsylvania</td>\n",
       "      <td>19140</td>\n",
       "      <td>East</td>\n",
       "      <td>FUR-CH-10002774</td>\n",
       "      <td>Furniture</td>\n",
       "      <td>Chairs</td>\n",
       "      <td>Global Deluxe Stacking Chair, Gray</td>\n",
       "      <td>71.372</td>\n",
       "      <td>2</td>\n",
       "      <td>0.3</td>\n",
       "      <td>-1.0196</td>\n",
       "      <td>7</td>\n",
       "    </tr>\n",
       "    <tr>\n",
       "      <th>2</th>\n",
       "      <td>CA-2017-107727</td>\n",
       "      <td>2021-10-19</td>\n",
       "      <td>Second Class</td>\n",
       "      <td>MA-17560</td>\n",
       "      <td>Matt Abelman</td>\n",
       "      <td>Home Office</td>\n",
       "      <td>United States</td>\n",
       "      <td>Houston</td>\n",
       "      <td>Texas</td>\n",
       "      <td>77095</td>\n",
       "      <td>Central</td>\n",
       "      <td>OFF-PA-10000249</td>\n",
       "      <td>Office Supplies</td>\n",
       "      <td>Paper</td>\n",
       "      <td>Easy-staple paper</td>\n",
       "      <td>29.472</td>\n",
       "      <td>3</td>\n",
       "      <td>0.2</td>\n",
       "      <td>9.9468</td>\n",
       "      <td>10</td>\n",
       "    </tr>\n",
       "  </tbody>\n",
       "</table>\n",
       "</div>"
      ],
      "text/plain": [
       "         Order ID Order Date       Ship Mode Customer ID    Customer Name  \\\n",
       "0  CA-2017-114412 2021-04-15  Standard Class    AA-10480     Andrew Allen   \n",
       "1  US-2017-156909 2021-07-16    Second Class    SF-20065  Sandra Flanagan   \n",
       "2  CA-2017-107727 2021-10-19    Second Class    MA-17560     Matt Abelman   \n",
       "\n",
       "       Segment        Country          City           State  Postal Code  \\\n",
       "0     Consumer  United States       Concord  North Carolina        28027   \n",
       "1     Consumer  United States  Philadelphia    Pennsylvania        19140   \n",
       "2  Home Office  United States       Houston           Texas        77095   \n",
       "\n",
       "    Region       Product ID         Category Sub-Category  \\\n",
       "0    South  OFF-PA-10002365  Office Supplies        Paper   \n",
       "1     East  FUR-CH-10002774        Furniture       Chairs   \n",
       "2  Central  OFF-PA-10000249  Office Supplies        Paper   \n",
       "\n",
       "                         Product Name   Sales  Quantity  Discount  Profit  \\\n",
       "0                          Xerox 1967  15.552         3       0.2  5.4432   \n",
       "1  Global Deluxe Stacking Chair, Gray  71.372         2       0.3 -1.0196   \n",
       "2                   Easy-staple paper  29.472         3       0.2  9.9468   \n",
       "\n",
       "   Month  \n",
       "0      4  \n",
       "1      7  \n",
       "2     10  "
      ]
     },
     "execution_count": 32,
     "metadata": {},
     "output_type": "execute_result"
    }
   ],
   "source": [
    "# Add month column to our dataFrame\n",
    "df['Month'] = df['Order Date'].dt.month\n",
    "df.head(3)"
   ]
  },
  {
   "cell_type": "code",
   "execution_count": 33,
   "id": "f8faec79-4057-4439-81e7-28c772c5bfed",
   "metadata": {},
   "outputs": [
    {
     "name": "stdout",
     "output_type": "stream",
     "text": [
      "<class 'pandas.core.frame.DataFrame'>\n",
      "RangeIndex: 3312 entries, 0 to 3311\n",
      "Data columns (total 20 columns):\n",
      " #   Column         Non-Null Count  Dtype         \n",
      "---  ------         --------------  -----         \n",
      " 0   Order ID       3312 non-null   object        \n",
      " 1   Order Date     3312 non-null   datetime64[ns]\n",
      " 2   Ship Mode      3312 non-null   object        \n",
      " 3   Customer ID    3312 non-null   object        \n",
      " 4   Customer Name  3312 non-null   object        \n",
      " 5   Segment        3312 non-null   object        \n",
      " 6   Country        3312 non-null   object        \n",
      " 7   City           3312 non-null   object        \n",
      " 8   State          3312 non-null   object        \n",
      " 9   Postal Code    3312 non-null   int64         \n",
      " 10  Region         3312 non-null   object        \n",
      " 11  Product ID     3312 non-null   object        \n",
      " 12  Category       3312 non-null   object        \n",
      " 13  Sub-Category   3312 non-null   object        \n",
      " 14  Product Name   3312 non-null   object        \n",
      " 15  Sales          3312 non-null   float64       \n",
      " 16  Quantity       3312 non-null   int64         \n",
      " 17  Discount       3312 non-null   float64       \n",
      " 18  Profit         3312 non-null   float64       \n",
      " 19  Month          3312 non-null   int64         \n",
      "dtypes: datetime64[ns](1), float64(3), int64(3), object(13)\n",
      "memory usage: 517.6+ KB\n"
     ]
    }
   ],
   "source": [
    "df.info()"
   ]
  },
  {
   "cell_type": "code",
   "execution_count": 41,
   "id": "388e6766-0c4a-453c-8c17-a1660da3ab49",
   "metadata": {},
   "outputs": [
    {
     "name": "stderr",
     "output_type": "stream",
     "text": [
      "C:\\Users\\ASUS\\AppData\\Local\\Temp\\ipykernel_20256\\4099349881.py:1: FutureWarning: Dropping of nuisance columns in DataFrame reductions (with 'numeric_only=None') is deprecated; in a future version this will raise TypeError.  Select only valid columns before calling the reduction.\n",
      "  df.sum()[['Sales','Profit']]\n"
     ]
    },
    {
     "data": {
      "text/plain": [
       "Sales     733215.2552\n",
       "Profit     93439.2696\n",
       "dtype: object"
      ]
     },
     "execution_count": 41,
     "metadata": {},
     "output_type": "execute_result"
    }
   ],
   "source": [
    "df.sum()[['Sales','Profit']]"
   ]
  },
  {
   "cell_type": "code",
   "execution_count": 44,
   "id": "12909726-17f9-4a34-a47f-bddc16b6e8af",
   "metadata": {},
   "outputs": [
    {
     "data": {
      "text/html": [
       "<div>\n",
       "<style scoped>\n",
       "    .dataframe tbody tr th:only-of-type {\n",
       "        vertical-align: middle;\n",
       "    }\n",
       "\n",
       "    .dataframe tbody tr th {\n",
       "        vertical-align: top;\n",
       "    }\n",
       "\n",
       "    .dataframe thead th {\n",
       "        text-align: right;\n",
       "    }\n",
       "</style>\n",
       "<table border=\"1\" class=\"dataframe\">\n",
       "  <thead>\n",
       "    <tr style=\"text-align: right;\">\n",
       "      <th></th>\n",
       "      <th>Sales</th>\n",
       "      <th>Profit</th>\n",
       "    </tr>\n",
       "    <tr>\n",
       "      <th>Month</th>\n",
       "      <th></th>\n",
       "      <th></th>\n",
       "    </tr>\n",
       "  </thead>\n",
       "  <tbody>\n",
       "    <tr>\n",
       "      <th>1</th>\n",
       "      <td>43971.3740</td>\n",
       "      <td>7140.4391</td>\n",
       "    </tr>\n",
       "    <tr>\n",
       "      <th>2</th>\n",
       "      <td>20301.1334</td>\n",
       "      <td>1613.8720</td>\n",
       "    </tr>\n",
       "    <tr>\n",
       "      <th>3</th>\n",
       "      <td>58872.3528</td>\n",
       "      <td>14751.8915</td>\n",
       "    </tr>\n",
       "  </tbody>\n",
       "</table>\n",
       "</div>"
      ],
      "text/plain": [
       "            Sales      Profit\n",
       "Month                        \n",
       "1      43971.3740   7140.4391\n",
       "2      20301.1334   1613.8720\n",
       "3      58872.3528  14751.8915"
      ]
     },
     "execution_count": 44,
     "metadata": {},
     "output_type": "execute_result"
    }
   ],
   "source": [
    "#group dataFrame by months\n",
    "grouped_by_months = df.groupby(by=['Month']).sum()[['Sales', 'Profit']]\n",
    "grouped_by_months.head(3)"
   ]
  },
  {
   "cell_type": "code",
   "execution_count": 55,
   "id": "5b341d88-c563-402d-9477-4e6d89ce1a51",
   "metadata": {},
   "outputs": [
    {
     "ename": "AttributeError",
     "evalue": "'Bar' object has no attribute 'html'",
     "output_type": "error",
     "traceback": [
      "\u001b[1;31m---------------------------------------------------------------------------\u001b[0m",
      "\u001b[1;31mAttributeError\u001b[0m                            Traceback (most recent call last)",
      "Input \u001b[1;32mIn [55]\u001b[0m, in \u001b[0;36m<cell line: 3>\u001b[1;34m()\u001b[0m\n\u001b[0;32m      1\u001b[0m \u001b[38;5;66;03m# plot sales & profit by months\u001b[39;00m\n\u001b[0;32m      2\u001b[0m bar_chart_by_month \u001b[38;5;241m=\u001b[39m (\n\u001b[0;32m      3\u001b[0m     Bar()\n\u001b[0;32m      4\u001b[0m     \u001b[38;5;241m.\u001b[39madd_xaxis(grouped_by_months\u001b[38;5;241m.\u001b[39mindex\u001b[38;5;241m.\u001b[39mtolist())\n\u001b[0;32m      5\u001b[0m     \u001b[38;5;241m.\u001b[39madd_yaxis(\u001b[38;5;124m'\u001b[39m\u001b[38;5;124mSales\u001b[39m\u001b[38;5;124m'\u001b[39m,grouped_by_months[\u001b[38;5;124m\"\u001b[39m\u001b[38;5;124mSales\u001b[39m\u001b[38;5;124m\"\u001b[39m]\u001b[38;5;241m.\u001b[39mround(\u001b[38;5;241m0\u001b[39m)\u001b[38;5;241m.\u001b[39mtolist())\n\u001b[0;32m      6\u001b[0m     \u001b[38;5;241m.\u001b[39madd_yaxis(\u001b[38;5;124m'\u001b[39m\u001b[38;5;124mProfit\u001b[39m\u001b[38;5;124m'\u001b[39m,grouped_by_months[\u001b[38;5;124m\"\u001b[39m\u001b[38;5;124mProfit\u001b[39m\u001b[38;5;124m\"\u001b[39m]\u001b[38;5;241m.\u001b[39mround(\u001b[38;5;241m0\u001b[39m)\u001b[38;5;241m.\u001b[39mtolist())\n\u001b[0;32m      7\u001b[0m     \u001b[38;5;241m.\u001b[39mset_global_opts(\n\u001b[0;32m      8\u001b[0m         title_opts\u001b[38;5;241m=\u001b[39mopts\u001b[38;5;241m.\u001b[39mTitleOpts(title\u001b[38;5;241m=\u001b[39m\u001b[38;5;124m'\u001b[39m\u001b[38;5;124mSales & Profit by month\u001b[39m\u001b[38;5;124m'\u001b[39m, subtitle\u001b[38;5;241m=\u001b[39m\u001b[38;5;124m'\u001b[39m\u001b[38;5;124min USD\u001b[39m\u001b[38;5;124m'\u001b[39m)\n\u001b[0;32m      9\u001b[0m     )\n\u001b[1;32m---> 10\u001b[0m     \u001b[38;5;241m.\u001b[39mrender(\u001b[43mbar_chart_by_month\u001b[49m\u001b[38;5;241;43m.\u001b[39;49m\u001b[43mhtml\u001b[49m)\n\u001b[0;32m     11\u001b[0m \n\u001b[0;32m     12\u001b[0m )\n",
      "\u001b[1;31mAttributeError\u001b[0m: 'Bar' object has no attribute 'html'"
     ]
    }
   ],
   "source": [
    "# plot sales & profit by months\n",
    "bar_chart_by_month = (\n",
    "    Bar()\n",
    "    .add_xaxis(grouped_by_months.index.tolist())\n",
    "    .add_yaxis('Sales',grouped_by_months[\"Sales\"].round(0).tolist())\n",
    "    .add_yaxis('Profit',grouped_by_months[\"Profit\"].round(0).tolist())\n",
    "    .set_global_opts(\n",
    "        title_opts=opts.TitleOpts(title='Sales & Profit by month', subtitle='in USD')\n",
    "    )\n",
    "    \n",
    "\n",
    ")"
   ]
  },
  {
   "cell_type": "code",
   "execution_count": 54,
   "id": "d13b8ccc-3162-4da5-b563-b11a87a12db6",
   "metadata": {},
   "outputs": [
    {
     "ename": "AttributeError",
     "evalue": "'Bar' object has no attribute 'html'",
     "output_type": "error",
     "traceback": [
      "\u001b[1;31m---------------------------------------------------------------------------\u001b[0m",
      "\u001b[1;31mAttributeError\u001b[0m                            Traceback (most recent call last)",
      "Input \u001b[1;32mIn [54]\u001b[0m, in \u001b[0;36m<cell line: 1>\u001b[1;34m()\u001b[0m\n\u001b[1;32m----> 1\u001b[0m bar_chart_by_month\u001b[38;5;241m.\u001b[39mrender(\u001b[43mbar_chart_by_month\u001b[49m\u001b[38;5;241;43m.\u001b[39;49m\u001b[43mhtml\u001b[49m)\n",
      "\u001b[1;31mAttributeError\u001b[0m: 'Bar' object has no attribute 'html'"
     ]
    }
   ],
   "source": [
    "bar_chart_by_month.render(bar_chart_by_month.html)"
   ]
  },
  {
   "cell_type": "code",
   "execution_count": null,
   "id": "b47eacdc-38ba-4830-adce-2463c8c1ddb5",
   "metadata": {},
   "outputs": [],
   "source": []
  }
 ],
 "metadata": {
  "kernelspec": {
   "display_name": "Python 3 (ipykernel)",
   "language": "python",
   "name": "python3"
  },
  "language_info": {
   "codemirror_mode": {
    "name": "ipython",
    "version": 3
   },
   "file_extension": ".py",
   "mimetype": "text/x-python",
   "name": "python",
   "nbconvert_exporter": "python",
   "pygments_lexer": "ipython3",
   "version": "3.10.4"
  }
 },
 "nbformat": 4,
 "nbformat_minor": 5
}
