{
 "cells": [
  {
   "cell_type": "markdown",
   "id": "8264b20f",
   "metadata": {
    "papermill": {
     "duration": 0.022034,
     "end_time": "2021-11-01T14:02:06.062767",
     "exception": false,
     "start_time": "2021-11-01T14:02:06.040733",
     "status": "completed"
    },
    "tags": []
   },
   "source": [
    "<img width='800' height='800' src=\"https://images.unsplash.com/photo-1567427017947-545c5f8d16ad?ixid=MnwxMjA3fDB8MHxwaG90by1wYWdlfHx8fGVufDB8fHx8&ixlib=rb-1.2.1&auto=format&fit=crop&w=1106&q=80\">"
   ]
  },
  {
   "cell_type": "markdown",
   "id": "6ee24461",
   "metadata": {
    "papermill": {
     "duration": 0.018048,
     "end_time": "2021-11-01T14:02:06.099674",
     "exception": false,
     "start_time": "2021-11-01T14:02:06.081626",
     "status": "completed"
    },
    "tags": []
   },
   "source": [
    "# TABLE OF CONTENTS\n",
    "* [IMPORT LIBRARIES](#IMPORTLIBRARIES)\n",
    "* [LOADING DATA](#LOADINGDATA)\n",
    "* [VISUALIZE](#VISUALIZE)\n",
    "* [CONCLUSION](#CONCLSION)"
   ]
  },
  {
   "cell_type": "markdown",
   "id": "efa07061",
   "metadata": {
    "papermill": {
     "duration": 0.017884,
     "end_time": "2021-11-01T14:02:06.135972",
     "exception": false,
     "start_time": "2021-11-01T14:02:06.118088",
     "status": "completed"
    },
    "tags": []
   },
   "source": [
    "**About the data** <br>\n",
    "This data was collected through google forms and made as a fun project during COVID-19 lockdown. Information about investment interests, people behavior and management \n",
    "\n",
    "**Attribute**\n",
    "* gender: GENDER,\n",
    "* age: AGE,\n",
    "* Investment_Avenues: Do you invest in Investment Avenues?,\n",
    "* Mutual Funds: What do you think are the best options for investing your money? (Rank in order of preference)\n",
    "* Equity Market: What do you think are the best options for investing your money? (Rank in order of preference)\n",
    "* Debentures: What do you think are the best options for investing your money? (Rank in order of preference)\n",
    "* Government Bonds: What do you think are the best options for investing your money? (Rank in order of preference)\n",
    "* Fixed Deposits: What do you think are the best options for investing your money? (Rank in order of preference)\n",
    "* Public Provident Fund: What do you think are the best options for investing your money? (Rank in order of preference)\n",
    "* Gold: What do you think are the best options for investing your money? (Rank in order of preference)\n",
    "* Stock_Market: Do you invest in the Stock Market?\n",
    "* Factor: What are the factors considered by you while investing in any instrument?\n",
    "* Objective: What is your investment objective?\n",
    "* Purpose: What is your purpose behind the investment?\n",
    "* Duration: How long do you prefer to keep your money in any investment instrument?\n",
    "* Invest_Monitor: How often do you monitor your investment?\n",
    "* Expect: How much return do you expect from any investment instrument?\n",
    "* Avenue: Which investment avenue do you mostly invest in?\n",
    "* What are your savings objectives?: What are your savings objectives?\n",
    "* Reason_Equity: Reasons for investing in Equity Market\n",
    "* Reason_Mutual: Reasons for investing in Mutual Funds\n",
    "* Reason_Bonds: Reasons for investing in Government Bonds\n",
    "* Reason_FD: Reasons for investing in Fixed Deposits \n",
    "* Source: Your sources of information for investments is \n",
    "\n",
    "**Data Source**: [Clike Here](https://www.kaggle.com/nitindatta/finance-data)"
   ]
  },
  {
   "cell_type": "markdown",
   "id": "bc97b346",
   "metadata": {
    "papermill": {
     "duration": 0.017909,
     "end_time": "2021-11-01T14:02:06.172008",
     "exception": false,
     "start_time": "2021-11-01T14:02:06.154099",
     "status": "completed"
    },
    "tags": []
   },
   "source": [
    "# IMPORT LIBRARIES <a id=\"IMPORTLIBRARIES\"></a>"
   ]
  },
  {
   "cell_type": "code",
   "execution_count": 1,
   "id": "bd6e3df3",
   "metadata": {
    "execution": {
     "iopub.execute_input": "2021-11-01T14:02:06.212908Z",
     "iopub.status.busy": "2021-11-01T14:02:06.211648Z",
     "iopub.status.idle": "2021-11-01T14:02:06.231218Z",
     "shell.execute_reply": "2021-11-01T14:02:06.231800Z",
     "shell.execute_reply.started": "2021-11-01T13:47:04.781241Z"
    },
    "papermill": {
     "duration": 0.041806,
     "end_time": "2021-11-01T14:02:06.232114",
     "exception": false,
     "start_time": "2021-11-01T14:02:06.190308",
     "status": "completed"
    },
    "tags": []
   },
   "outputs": [],
   "source": [
    "%config Completer.use_jedi = False"
   ]
  },
  {
   "cell_type": "code",
   "execution_count": 2,
   "id": "f26da21c",
   "metadata": {
    "_cell_guid": "b1076dfc-b9ad-4769-8c92-a6c4dae69d19",
    "_uuid": "8f2839f25d086af736a60e9eeb907d3b93b6e0e5",
    "execution": {
     "iopub.execute_input": "2021-11-01T14:02:06.271703Z",
     "iopub.status.busy": "2021-11-01T14:02:06.271030Z",
     "iopub.status.idle": "2021-11-01T14:02:07.146921Z",
     "shell.execute_reply": "2021-11-01T14:02:07.146323Z",
     "shell.execute_reply.started": "2021-11-01T13:47:04.819427Z"
    },
    "papermill": {
     "duration": 0.896768,
     "end_time": "2021-11-01T14:02:07.147080",
     "exception": false,
     "start_time": "2021-11-01T14:02:06.250312",
     "status": "completed"
    },
    "tags": []
   },
   "outputs": [],
   "source": [
    "#Import the libraries\n",
    "import numpy as np\n",
    "import pandas as pd\n",
    "import seaborn as sns\n",
    "import matplotlib.pyplot as plt\n",
    "import seaborn as sns"
   ]
  },
  {
   "cell_type": "markdown",
   "id": "d82a6eb4",
   "metadata": {
    "papermill": {
     "duration": 0.017906,
     "end_time": "2021-11-01T14:02:07.183170",
     "exception": false,
     "start_time": "2021-11-01T14:02:07.165264",
     "status": "completed"
    },
    "tags": []
   },
   "source": [
    "# LOADING DATASET <a id=\"LOADINGDATA\"></a>"
   ]
  },
  {
   "cell_type": "code",
   "execution_count": 3,
   "id": "a95c6ef7",
   "metadata": {
    "execution": {
     "iopub.execute_input": "2021-11-01T14:02:07.225322Z",
     "iopub.status.busy": "2021-11-01T14:02:07.224636Z",
     "iopub.status.idle": "2021-11-01T14:02:07.273717Z",
     "shell.execute_reply": "2021-11-01T14:02:07.274572Z",
     "shell.execute_reply.started": "2021-11-01T13:47:05.741659Z"
    },
    "papermill": {
     "duration": 0.073469,
     "end_time": "2021-11-01T14:02:07.274794",
     "exception": false,
     "start_time": "2021-11-01T14:02:07.201325",
     "status": "completed"
    },
    "tags": []
   },
   "outputs": [
    {
     "name": "stdout",
     "output_type": "stream",
     "text": [
      "Count attributes of dataset: 24\n",
      "Count rows of dataset: 40\n"
     ]
    },
    {
     "data": {
      "text/html": [
       "<div>\n",
       "<style scoped>\n",
       "    .dataframe tbody tr th:only-of-type {\n",
       "        vertical-align: middle;\n",
       "    }\n",
       "\n",
       "    .dataframe tbody tr th {\n",
       "        vertical-align: top;\n",
       "    }\n",
       "\n",
       "    .dataframe thead th {\n",
       "        text-align: right;\n",
       "    }\n",
       "</style>\n",
       "<table border=\"1\" class=\"dataframe\">\n",
       "  <thead>\n",
       "    <tr style=\"text-align: right;\">\n",
       "      <th></th>\n",
       "      <th>gender</th>\n",
       "      <th>age</th>\n",
       "      <th>Investment_Avenues</th>\n",
       "      <th>Mutual_Funds</th>\n",
       "      <th>Equity_Market</th>\n",
       "      <th>Debentures</th>\n",
       "      <th>Government_Bonds</th>\n",
       "      <th>Fixed_Deposits</th>\n",
       "      <th>PPF</th>\n",
       "      <th>Gold</th>\n",
       "      <th>...</th>\n",
       "      <th>Duration</th>\n",
       "      <th>Invest_Monitor</th>\n",
       "      <th>Expect</th>\n",
       "      <th>Avenue</th>\n",
       "      <th>What are your savings objectives?</th>\n",
       "      <th>Reason_Equity</th>\n",
       "      <th>Reason_Mutual</th>\n",
       "      <th>Reason_Bonds</th>\n",
       "      <th>Reason_FD</th>\n",
       "      <th>Source</th>\n",
       "    </tr>\n",
       "  </thead>\n",
       "  <tbody>\n",
       "    <tr>\n",
       "      <th>0</th>\n",
       "      <td>Female</td>\n",
       "      <td>34</td>\n",
       "      <td>Yes</td>\n",
       "      <td>1</td>\n",
       "      <td>2</td>\n",
       "      <td>5</td>\n",
       "      <td>3</td>\n",
       "      <td>7</td>\n",
       "      <td>6</td>\n",
       "      <td>4</td>\n",
       "      <td>...</td>\n",
       "      <td>1-3 years</td>\n",
       "      <td>Monthly</td>\n",
       "      <td>20%-30%</td>\n",
       "      <td>Mutual Fund</td>\n",
       "      <td>Retirement Plan</td>\n",
       "      <td>Capital Appreciation</td>\n",
       "      <td>Better Returns</td>\n",
       "      <td>Safe Investment</td>\n",
       "      <td>Fixed Returns</td>\n",
       "      <td>Newspapers and Magazines</td>\n",
       "    </tr>\n",
       "    <tr>\n",
       "      <th>1</th>\n",
       "      <td>Female</td>\n",
       "      <td>23</td>\n",
       "      <td>Yes</td>\n",
       "      <td>4</td>\n",
       "      <td>3</td>\n",
       "      <td>2</td>\n",
       "      <td>1</td>\n",
       "      <td>5</td>\n",
       "      <td>6</td>\n",
       "      <td>7</td>\n",
       "      <td>...</td>\n",
       "      <td>More than 5 years</td>\n",
       "      <td>Weekly</td>\n",
       "      <td>20%-30%</td>\n",
       "      <td>Mutual Fund</td>\n",
       "      <td>Health Care</td>\n",
       "      <td>Dividend</td>\n",
       "      <td>Better Returns</td>\n",
       "      <td>Safe Investment</td>\n",
       "      <td>High Interest Rates</td>\n",
       "      <td>Financial Consultants</td>\n",
       "    </tr>\n",
       "    <tr>\n",
       "      <th>2</th>\n",
       "      <td>Male</td>\n",
       "      <td>30</td>\n",
       "      <td>Yes</td>\n",
       "      <td>3</td>\n",
       "      <td>6</td>\n",
       "      <td>4</td>\n",
       "      <td>2</td>\n",
       "      <td>5</td>\n",
       "      <td>1</td>\n",
       "      <td>7</td>\n",
       "      <td>...</td>\n",
       "      <td>3-5 years</td>\n",
       "      <td>Daily</td>\n",
       "      <td>20%-30%</td>\n",
       "      <td>Equity</td>\n",
       "      <td>Retirement Plan</td>\n",
       "      <td>Capital Appreciation</td>\n",
       "      <td>Tax Benefits</td>\n",
       "      <td>Assured Returns</td>\n",
       "      <td>Fixed Returns</td>\n",
       "      <td>Television</td>\n",
       "    </tr>\n",
       "    <tr>\n",
       "      <th>3</th>\n",
       "      <td>Male</td>\n",
       "      <td>22</td>\n",
       "      <td>Yes</td>\n",
       "      <td>2</td>\n",
       "      <td>1</td>\n",
       "      <td>3</td>\n",
       "      <td>7</td>\n",
       "      <td>6</td>\n",
       "      <td>4</td>\n",
       "      <td>5</td>\n",
       "      <td>...</td>\n",
       "      <td>Less than 1 year</td>\n",
       "      <td>Daily</td>\n",
       "      <td>10%-20%</td>\n",
       "      <td>Equity</td>\n",
       "      <td>Retirement Plan</td>\n",
       "      <td>Dividend</td>\n",
       "      <td>Fund Diversification</td>\n",
       "      <td>Tax Incentives</td>\n",
       "      <td>High Interest Rates</td>\n",
       "      <td>Internet</td>\n",
       "    </tr>\n",
       "    <tr>\n",
       "      <th>4</th>\n",
       "      <td>Female</td>\n",
       "      <td>24</td>\n",
       "      <td>No</td>\n",
       "      <td>2</td>\n",
       "      <td>1</td>\n",
       "      <td>3</td>\n",
       "      <td>6</td>\n",
       "      <td>4</td>\n",
       "      <td>5</td>\n",
       "      <td>7</td>\n",
       "      <td>...</td>\n",
       "      <td>Less than 1 year</td>\n",
       "      <td>Daily</td>\n",
       "      <td>20%-30%</td>\n",
       "      <td>Equity</td>\n",
       "      <td>Retirement Plan</td>\n",
       "      <td>Capital Appreciation</td>\n",
       "      <td>Better Returns</td>\n",
       "      <td>Safe Investment</td>\n",
       "      <td>Risk Free</td>\n",
       "      <td>Internet</td>\n",
       "    </tr>\n",
       "  </tbody>\n",
       "</table>\n",
       "<p>5 rows × 24 columns</p>\n",
       "</div>"
      ],
      "text/plain": [
       "   gender  age Investment_Avenues  Mutual_Funds  Equity_Market  Debentures  \\\n",
       "0  Female   34                Yes             1              2           5   \n",
       "1  Female   23                Yes             4              3           2   \n",
       "2    Male   30                Yes             3              6           4   \n",
       "3    Male   22                Yes             2              1           3   \n",
       "4  Female   24                 No             2              1           3   \n",
       "\n",
       "   Government_Bonds  Fixed_Deposits  PPF  Gold  ...           Duration  \\\n",
       "0                 3               7    6     4  ...          1-3 years   \n",
       "1                 1               5    6     7  ...  More than 5 years   \n",
       "2                 2               5    1     7  ...          3-5 years   \n",
       "3                 7               6    4     5  ...   Less than 1 year   \n",
       "4                 6               4    5     7  ...   Less than 1 year   \n",
       "\n",
       "  Invest_Monitor   Expect       Avenue What are your savings objectives?  \\\n",
       "0        Monthly  20%-30%  Mutual Fund                   Retirement Plan   \n",
       "1         Weekly  20%-30%  Mutual Fund                       Health Care   \n",
       "2          Daily  20%-30%       Equity                   Retirement Plan   \n",
       "3          Daily  10%-20%       Equity                   Retirement Plan   \n",
       "4          Daily  20%-30%       Equity                   Retirement Plan   \n",
       "\n",
       "          Reason_Equity         Reason_Mutual     Reason_Bonds  \\\n",
       "0  Capital Appreciation        Better Returns  Safe Investment   \n",
       "1              Dividend        Better Returns  Safe Investment   \n",
       "2  Capital Appreciation          Tax Benefits  Assured Returns   \n",
       "3              Dividend  Fund Diversification   Tax Incentives   \n",
       "4  Capital Appreciation        Better Returns  Safe Investment   \n",
       "\n",
       "             Reason_FD                    Source  \n",
       "0        Fixed Returns  Newspapers and Magazines  \n",
       "1  High Interest Rates     Financial Consultants  \n",
       "2        Fixed Returns                Television  \n",
       "3  High Interest Rates                  Internet  \n",
       "4            Risk Free                  Internet  \n",
       "\n",
       "[5 rows x 24 columns]"
      ]
     },
     "execution_count": 3,
     "metadata": {},
     "output_type": "execute_result"
    }
   ],
   "source": [
    "#Loading the dataset\n",
    "data = pd.read_csv('../input/finance-data/Finance_data.csv', sep=',')\n",
    "print(f'Count attributes of dataset: {len(data.columns)}')\n",
    "print(f'Count rows of dataset: {len(data)}')\n",
    "data.head()"
   ]
  },
  {
   "cell_type": "markdown",
   "id": "3b081e69",
   "metadata": {
    "papermill": {
     "duration": 0.019045,
     "end_time": "2021-11-01T14:02:07.313765",
     "exception": false,
     "start_time": "2021-11-01T14:02:07.294720",
     "status": "completed"
    },
    "tags": []
   },
   "source": [
    "# DATA CLEANING"
   ]
  },
  {
   "cell_type": "code",
   "execution_count": 4,
   "id": "d068804e",
   "metadata": {
    "execution": {
     "iopub.execute_input": "2021-11-01T14:02:07.355341Z",
     "iopub.status.busy": "2021-11-01T14:02:07.354733Z",
     "iopub.status.idle": "2021-11-01T14:02:07.375826Z",
     "shell.execute_reply": "2021-11-01T14:02:07.376296Z",
     "shell.execute_reply.started": "2021-11-01T13:47:05.797780Z"
    },
    "papermill": {
     "duration": 0.043433,
     "end_time": "2021-11-01T14:02:07.376495",
     "exception": false,
     "start_time": "2021-11-01T14:02:07.333062",
     "status": "completed"
    },
    "tags": []
   },
   "outputs": [
    {
     "name": "stdout",
     "output_type": "stream",
     "text": [
      "<class 'pandas.core.frame.DataFrame'>\n",
      "RangeIndex: 40 entries, 0 to 39\n",
      "Data columns (total 24 columns):\n",
      " #   Column                             Non-Null Count  Dtype \n",
      "---  ------                             --------------  ----- \n",
      " 0   gender                             40 non-null     object\n",
      " 1   age                                40 non-null     int64 \n",
      " 2   Investment_Avenues                 40 non-null     object\n",
      " 3   Mutual_Funds                       40 non-null     int64 \n",
      " 4   Equity_Market                      40 non-null     int64 \n",
      " 5   Debentures                         40 non-null     int64 \n",
      " 6   Government_Bonds                   40 non-null     int64 \n",
      " 7   Fixed_Deposits                     40 non-null     int64 \n",
      " 8   PPF                                40 non-null     int64 \n",
      " 9   Gold                               40 non-null     int64 \n",
      " 10  Stock_Marktet                      40 non-null     object\n",
      " 11  Factor                             40 non-null     object\n",
      " 12  Objective                          40 non-null     object\n",
      " 13  Purpose                            40 non-null     object\n",
      " 14  Duration                           40 non-null     object\n",
      " 15  Invest_Monitor                     40 non-null     object\n",
      " 16  Expect                             40 non-null     object\n",
      " 17  Avenue                             40 non-null     object\n",
      " 18  What are your savings objectives?  40 non-null     object\n",
      " 19  Reason_Equity                      40 non-null     object\n",
      " 20  Reason_Mutual                      40 non-null     object\n",
      " 21  Reason_Bonds                       40 non-null     object\n",
      " 22  Reason_FD                          40 non-null     object\n",
      " 23  Source                             40 non-null     object\n",
      "dtypes: int64(8), object(16)\n",
      "memory usage: 7.6+ KB\n"
     ]
    }
   ],
   "source": [
    "#Get data types of Dataframe columns \n",
    "data.info()"
   ]
  },
  {
   "cell_type": "code",
   "execution_count": 5,
   "id": "31e792ac",
   "metadata": {
    "execution": {
     "iopub.execute_input": "2021-11-01T14:02:07.424310Z",
     "iopub.status.busy": "2021-11-01T14:02:07.423668Z",
     "iopub.status.idle": "2021-11-01T14:02:07.426573Z",
     "shell.execute_reply": "2021-11-01T14:02:07.427102Z",
     "shell.execute_reply.started": "2021-11-01T13:47:05.823399Z"
    },
    "papermill": {
     "duration": 0.031,
     "end_time": "2021-11-01T14:02:07.427270",
     "exception": false,
     "start_time": "2021-11-01T14:02:07.396270",
     "status": "completed"
    },
    "tags": []
   },
   "outputs": [
    {
     "data": {
      "text/plain": [
       "gender                               0\n",
       "age                                  0\n",
       "Investment_Avenues                   0\n",
       "Mutual_Funds                         0\n",
       "Equity_Market                        0\n",
       "Debentures                           0\n",
       "Government_Bonds                     0\n",
       "Fixed_Deposits                       0\n",
       "PPF                                  0\n",
       "Gold                                 0\n",
       "Stock_Marktet                        0\n",
       "Factor                               0\n",
       "Objective                            0\n",
       "Purpose                              0\n",
       "Duration                             0\n",
       "Invest_Monitor                       0\n",
       "Expect                               0\n",
       "Avenue                               0\n",
       "What are your savings objectives?    0\n",
       "Reason_Equity                        0\n",
       "Reason_Mutual                        0\n",
       "Reason_Bonds                         0\n",
       "Reason_FD                            0\n",
       "Source                               0\n",
       "dtype: int64"
      ]
     },
     "execution_count": 5,
     "metadata": {},
     "output_type": "execute_result"
    }
   ],
   "source": [
    "#Check missing values in the dataset\n",
    "data.isna().sum()"
   ]
  },
  {
   "cell_type": "markdown",
   "id": "3f300f99",
   "metadata": {
    "papermill": {
     "duration": 0.019671,
     "end_time": "2021-11-01T14:02:07.467156",
     "exception": false,
     "start_time": "2021-11-01T14:02:07.447485",
     "status": "completed"
    },
    "tags": []
   },
   "source": [
    "# VISUALIZE <a id=\"VISUALIZE\"></a>"
   ]
  },
  {
   "cell_type": "code",
   "execution_count": 6,
   "id": "e6c56fc1",
   "metadata": {
    "execution": {
     "iopub.execute_input": "2021-11-01T14:02:07.513815Z",
     "iopub.status.busy": "2021-11-01T14:02:07.509775Z",
     "iopub.status.idle": "2021-11-01T14:02:07.815151Z",
     "shell.execute_reply": "2021-11-01T14:02:07.815631Z",
     "shell.execute_reply.started": "2021-11-01T13:47:05.833523Z"
    },
    "papermill": {
     "duration": 0.328623,
     "end_time": "2021-11-01T14:02:07.815807",
     "exception": false,
     "start_time": "2021-11-01T14:02:07.487184",
     "status": "completed"
    },
    "tags": []
   },
   "outputs": [
    {
     "data": {
      "image/png": "[encoded data removed]",
      "text/plain": [
       "<Figure size 576x360 with 1 Axes>"
      ]
     },
     "metadata": {},
     "output_type": "display_data"
    }
   ],
   "source": [
    "#Count of people who related to stock market and investment by gender\n",
    "plt.style.use('ggplot')\n",
    "data['gender'].value_counts().plot(kind='bar', figsize=(8,5), ylabel='Count of People', xlabel='Gender')\n",
    "plt.legend()\n",
    "plt.show()"
   ]
  },
  {
   "cell_type": "markdown",
   "id": "20b8273f",
   "metadata": {
    "papermill": {
     "duration": 0.020223,
     "end_time": "2021-11-01T14:02:07.857283",
     "exception": false,
     "start_time": "2021-11-01T14:02:07.837060",
     "status": "completed"
    },
    "tags": []
   },
   "source": [
    "**From dataset male are more likely to invest than female**"
   ]
  },
  {
   "cell_type": "code",
   "execution_count": 7,
   "id": "7d9de5fa",
   "metadata": {
    "execution": {
     "iopub.execute_input": "2021-11-01T14:02:07.901618Z",
     "iopub.status.busy": "2021-11-01T14:02:07.901002Z",
     "iopub.status.idle": "2021-11-01T14:02:08.103205Z",
     "shell.execute_reply": "2021-11-01T14:02:08.102619Z",
     "shell.execute_reply.started": "2021-11-01T13:47:06.089865Z"
    },
    "papermill": {
     "duration": 0.225385,
     "end_time": "2021-11-01T14:02:08.103345",
     "exception": false,
     "start_time": "2021-11-01T14:02:07.877960",
     "status": "completed"
    },
    "tags": []
   },
   "outputs": [
    {
     "data": {
      "image/png": "[encoded data removed]",
      "text/plain": [
       "<Figure size 432x288 with 1 Axes>"
      ]
     },
     "metadata": {},
     "output_type": "display_data"
    }
   ],
   "source": [
    "#Show frequency age range by gender \n",
    "data.groupby('gender').age.plot(kind='kde')\n",
    "plt.xlabel('age')\n",
    "plt.legend()\n",
    "plt.show()"
   ]
  },
  {
   "cell_type": "markdown",
   "id": "ab13d72d",
   "metadata": {
    "papermill": {
     "duration": 0.021527,
     "end_time": "2021-11-01T14:02:08.147553",
     "exception": false,
     "start_time": "2021-11-01T14:02:08.126026",
     "status": "completed"
    },
    "tags": []
   },
   "source": [
    "**The graph show the most people invest between 25-31 years (kernal density estimation maybe a little error)**"
   ]
  },
  {
   "cell_type": "code",
   "execution_count": 8,
   "id": "aaaa231a",
   "metadata": {
    "execution": {
     "iopub.execute_input": "2021-11-01T14:02:08.220272Z",
     "iopub.status.busy": "2021-11-01T14:02:08.217847Z",
     "iopub.status.idle": "2021-11-01T14:02:08.374381Z",
     "shell.execute_reply": "2021-11-01T14:02:08.373740Z",
     "shell.execute_reply.started": "2021-11-01T13:47:06.451820Z"
    },
    "papermill": {
     "duration": 0.204706,
     "end_time": "2021-11-01T14:02:08.374556",
     "exception": false,
     "start_time": "2021-11-01T14:02:08.169850",
     "status": "completed"
    },
    "tags": []
   },
   "outputs": [
    {
     "data": {
      "image/png": "[encoded data removed]",
      "text/plain": [
       "<Figure size 432x288 with 1 Axes>"
      ]
     },
     "metadata": {},
     "output_type": "display_data"
    }
   ],
   "source": [
    "data.iloc[:, 3:10].sum().plot(kind='bar')\n",
    "plt.title('The sum of types of investments')\n",
    "plt.ylabel('preference (less like)')\n",
    "plt.show()"
   ]
  },
  {
   "cell_type": "markdown",
   "id": "75b41531",
   "metadata": {
    "papermill": {
     "duration": 0.022758,
     "end_time": "2021-11-01T14:02:08.421684",
     "exception": false,
     "start_time": "2021-11-01T14:02:08.398926",
     "status": "completed"
    },
    "tags": []
   },
   "source": [
    "**The rank in order of preferrence (1 like most..7 least like) the data show people prefer to invest Public provident fund.**"
   ]
  },
  {
   "cell_type": "code",
   "execution_count": 9,
   "id": "8adc2761",
   "metadata": {
    "execution": {
     "iopub.execute_input": "2021-11-01T14:02:08.471626Z",
     "iopub.status.busy": "2021-11-01T14:02:08.470944Z",
     "iopub.status.idle": "2021-11-01T14:02:08.606516Z",
     "shell.execute_reply": "2021-11-01T14:02:08.607512Z",
     "shell.execute_reply.started": "2021-11-01T13:47:06.682609Z"
    },
    "papermill": {
     "duration": 0.162897,
     "end_time": "2021-11-01T14:02:08.607796",
     "exception": false,
     "start_time": "2021-11-01T14:02:08.444899",
     "status": "completed"
    },
    "tags": []
   },
   "outputs": [
    {
     "data": {
      "image/png": "[encoded data removed]",
      "text/plain": [
       "<Figure size 432x288 with 1 Axes>"
      ]
     },
     "metadata": {},
     "output_type": "display_data"
    }
   ],
   "source": [
    "data['Factor'].value_counts().plot(kind='bar')\n",
    "plt.ylabel('counts')\n",
    "plt.title('Factor of Investment')\n",
    "plt.show()"
   ]
  },
  {
   "cell_type": "markdown",
   "id": "5f414802",
   "metadata": {
    "papermill": {
     "duration": 0.023463,
     "end_time": "2021-11-01T14:02:08.662102",
     "exception": false,
     "start_time": "2021-11-01T14:02:08.638639",
     "status": "completed"
    },
    "tags": []
   },
   "source": [
    "**Often factor considered investing in any instrument is \"Returns\"**"
   ]
  },
  {
   "cell_type": "code",
   "execution_count": 10,
   "id": "fd576d57",
   "metadata": {
    "execution": {
     "iopub.execute_input": "2021-11-01T14:02:08.737464Z",
     "iopub.status.busy": "2021-11-01T14:02:08.734848Z",
     "iopub.status.idle": "2021-11-01T14:02:09.081080Z",
     "shell.execute_reply": "2021-11-01T14:02:09.081640Z",
     "shell.execute_reply.started": "2021-11-01T13:47:06.879865Z"
    },
    "papermill": {
     "duration": 0.395762,
     "end_time": "2021-11-01T14:02:09.081822",
     "exception": false,
     "start_time": "2021-11-01T14:02:08.686060",
     "status": "completed"
    },
    "tags": []
   },
   "outputs": [
    {
     "data": {
      "text/plain": [
       "Text(0.5, 1.0, 'Invest Monitor')"
      ]
     },
     "execution_count": 10,
     "metadata": {},
     "output_type": "execute_result"
    },
    {
     "data": {
      "image/png": "[encoded data removed]",
      "text/plain": [
       "<Figure size 1080x360 with 2 Axes>"
      ]
     },
     "metadata": {},
     "output_type": "display_data"
    }
   ],
   "source": [
    "#Duration of invest and invest monitor\n",
    "fig, axes = plt.subplots(1, 2, figsize=(15,5))\n",
    "\n",
    "sns.countplot(ax=axes[0], x=data['Duration'])\n",
    "axes[0].set_title('Prefer to keep your money')\n",
    "\n",
    "sns.countplot(ax=axes[1], x=data['Invest_Monitor'])\n",
    "axes[1].set_title('Invest Monitor')\n"
   ]
  },
  {
   "cell_type": "markdown",
   "id": "a09f214c",
   "metadata": {
    "papermill": {
     "duration": 0.025033,
     "end_time": "2021-11-01T14:02:09.132301",
     "exception": false,
     "start_time": "2021-11-01T14:02:09.107268",
     "status": "completed"
    },
    "tags": []
   },
   "source": [
    "**Guide: [subplotting](https://dev.to/thalesbruno/subplotting-with-matplotlib-and-seaborn-5ei8)**"
   ]
  },
  {
   "cell_type": "code",
   "execution_count": 11,
   "id": "a312b4f7",
   "metadata": {
    "execution": {
     "iopub.execute_input": "2021-11-01T14:02:09.224895Z",
     "iopub.status.busy": "2021-11-01T14:02:09.193317Z",
     "iopub.status.idle": "2021-11-01T14:02:09.431459Z",
     "shell.execute_reply": "2021-11-01T14:02:09.430851Z",
     "shell.execute_reply.started": "2021-11-01T13:47:07.251719Z"
    },
    "papermill": {
     "duration": 0.273883,
     "end_time": "2021-11-01T14:02:09.431618",
     "exception": false,
     "start_time": "2021-11-01T14:02:09.157735",
     "status": "completed"
    },
    "tags": []
   },
   "outputs": [
    {
     "data": {
      "image/png": "[encoded data removed]",
      "text/plain": [
       "<Figure size 432x288 with 1 Axes>"
      ]
     },
     "metadata": {},
     "output_type": "display_data"
    }
   ],
   "source": [
    "sns.countplot(x=data['Duration'], hue=data['Invest_Monitor'], palette='coolwarm', edgecolor='black')\n",
    "plt.legend(loc='upper right')\n",
    "plt.show()"
   ]
  },
  {
   "cell_type": "markdown",
   "id": "4c4e857e",
   "metadata": {
    "papermill": {
     "duration": 0.02584,
     "end_time": "2021-11-01T14:02:09.483548",
     "exception": false,
     "start_time": "2021-11-01T14:02:09.457708",
     "status": "completed"
    },
    "tags": []
   },
   "source": [
    "**People usally hold there assets any instruments 1-3 years, 3-5 years and often monitor there investment monthly**"
   ]
  },
  {
   "cell_type": "code",
   "execution_count": 12,
   "id": "f38feee7",
   "metadata": {
    "execution": {
     "iopub.execute_input": "2021-11-01T14:02:09.565465Z",
     "iopub.status.busy": "2021-11-01T14:02:09.562759Z",
     "iopub.status.idle": "2021-11-01T14:02:09.760311Z",
     "shell.execute_reply": "2021-11-01T14:02:09.760812Z",
     "shell.execute_reply.started": "2021-11-01T13:47:07.493685Z"
    },
    "papermill": {
     "duration": 0.251129,
     "end_time": "2021-11-01T14:02:09.761000",
     "exception": false,
     "start_time": "2021-11-01T14:02:09.509871",
     "status": "completed"
    },
    "tags": []
   },
   "outputs": [
    {
     "data": {
      "text/plain": [
       "<AxesSubplot:xlabel='Source', ylabel='count'>"
      ]
     },
     "execution_count": 12,
     "metadata": {},
     "output_type": "execute_result"
    },
    {
     "data": {
      "image/png": "[encoded data removed]",
      "text/plain": [
       "<Figure size 432x288 with 1 Axes>"
      ]
     },
     "metadata": {},
     "output_type": "display_data"
    }
   ],
   "source": [
    "sns.countplot(x=data['Source'])"
   ]
  },
  {
   "cell_type": "markdown",
   "id": "cc2d704a",
   "metadata": {
    "papermill": {
     "duration": 0.026759,
     "end_time": "2021-11-01T14:02:09.814735",
     "exception": false,
     "start_time": "2021-11-01T14:02:09.787976",
     "status": "completed"
    },
    "tags": []
   },
   "source": [
    "**Rank information for investment**\n",
    "1. Financial Consultants\n",
    "2. Newspapers and Magazines\n",
    "3. Television\n",
    "4. Internet"
   ]
  },
  {
   "cell_type": "markdown",
   "id": "d8ffaedb",
   "metadata": {
    "papermill": {
     "duration": 0.026906,
     "end_time": "2021-11-01T14:02:09.868664",
     "exception": false,
     "start_time": "2021-11-01T14:02:09.841758",
     "status": "completed"
    },
    "tags": []
   },
   "source": [
    "# CONCLUSION <a id=\"CONCLUSION\"></a>"
   ]
  },
  {
   "cell_type": "markdown",
   "id": "88d697fa",
   "metadata": {
    "papermill": {
     "duration": 0.026612,
     "end_time": "2021-11-01T14:02:09.922153",
     "exception": false,
     "start_time": "2021-11-01T14:02:09.895541",
     "status": "completed"
    },
    "tags": []
   },
   "source": [
    "People who are investors in the dataset are between the ages of 25 and 31. It is mostly male. They're also likely to invest in Gold and Debentures.\n",
    "The length of time that money is held in any investment instrument determines whether it is middle-term or long-term investing. In addition, most people keep track of their finances on a monthly basis."
   ]
  }
 ],
 "metadata": {
  "kernelspec": {
   "display_name": "Python 3",
   "language": "python",
   "name": "python3"
  },
  "language_info": {
   "codemirror_mode": {
    "name": "ipython",
    "version": 3
   },
   "file_extension": ".py",
   "mimetype": "text/x-python",
   "name": "python",
   "nbconvert_exporter": "python",
   "pygments_lexer": "ipython3",
   "version": "3.7.10"
  },
  "papermill": {
   "default_parameters": {},
   "duration": 13.919885,
   "end_time": "2021-11-01T14:02:10.659353",
   "environment_variables": {},
   "exception": null,
   "input_path": "__notebook__.ipynb",
   "output_path": "__notebook__.ipynb",
   "parameters": {},
   "start_time": "2021-11-01T14:01:56.739468",
   "version": "2.3.3"
  }
 },
 "nbformat": 4,
 "nbformat_minor": 5
}
